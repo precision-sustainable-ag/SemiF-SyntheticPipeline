{
 "cells": [
  {
   "cell_type": "code",
   "execution_count": 1,
   "metadata": {},
   "outputs": [],
   "source": [
    "from pathlib import Path\n",
    "import exifread\n",
    "import sys\n",
    "import time\n",
    "import datetime\n",
    "\n",
    "sys.path.append(\"..\")\n",
    "from semif_utils.mongo_utils import to_db, Connect\n",
    "from semif_utils.datasets import ImageMetadata\n",
    "import shutil"
   ]
  },
  {
   "cell_type": "code",
   "execution_count": 9,
   "metadata": {},
   "outputs": [],
   "source": [
    "imgs = Path(\"../data/semifield-developed-images-trial/NC_2022-03-04/images\").glob(\"*.jpg\")\n",
    "imgs = [x for x in imgs]"
   ]
  },
  {
   "cell_type": "code",
   "execution_count": 10,
   "metadata": {},
   "outputs": [
    {
     "name": "stdout",
     "output_type": "stream",
     "text": [
      "Datetime from image exif metadata:  2022:03:04 13:15:31\n",
      "Unix millisecond time:  1646421331000.0\n",
      "Back to datetime string but in another format:  2022-03-04 13:15:31\n",
      "['2022', '03', '29']\n"
     ]
    }
   ],
   "source": [
    "def get_metadata(path):\n",
    "    \"\"\" Change image filename to [state]_[row_number]_[stop]_[unixtime from image metadata]\n",
    "    datetime to unix time in milliseconds\n",
    "    \"\"\"\n",
    "    # Open image file for reading (must be in binary mode)\n",
    "    f = open(path, 'rb')\n",
    "    # Return Exif tags\n",
    "    tags = exifread.process_file(f,details=False)\n",
    "    f.close()\n",
    "    meta = {}\n",
    "    for x, y in tags.items():\n",
    "        newval = y.values[0] if type(y.values) == list and len(y.values) == 1 else y.values\n",
    "        if type(newval) == exifread.utils.Ratio:\n",
    "            newval = str(newval)\n",
    "        meta[x.rsplit(\" \")[1]] = newval\n",
    "        pop_list = [\"MakerNote\", \"UserComment\", \"ImageDescription\", \"ApplicationNotes\"]\n",
    "        meta.pop(x.rsplit(\" \")[1])  if x.rsplit(\" \")[1] in pop_list else None\n",
    "    return meta\n",
    "\n",
    "\n",
    "\n",
    "def computer_now_2_unixmilli():\n",
    "    ms = datetime.datetime.now()\n",
    "    unixmilli = time.mktime(ms.timetuple()) * 1000\n",
    "    return unixmilli\n",
    "\n",
    "def exifdatetime_2_unixmilli(imgmeta):\n",
    "    dt = imgmeta[\"DateTime\"]\n",
    "    dt = datetime.datetime.strptime(dt, '%Y:%m:%d %H:%M:%S')\n",
    "    milliunix = time.mktime(dt.timetuple()) * 1000\n",
    "    return milliunix\n",
    "\n",
    "def unixmilli_2_datetime(unixmilli_time):\n",
    "    unix_time = unixmilli_time / 1000\n",
    "    date_time = datetime.datetime.fromtimestamp(int(unix_time))\n",
    "    dt_str = date_time.strftime('%Y-%m-%d %H:%M:%S')\n",
    "    return dt_str\n",
    "\n",
    "def folder_date_2_unixmilli(date):\n",
    "    dtp = date.split(\"-\")\n",
    "    \n",
    "    print(dtp)\n",
    "    \n",
    "    date_format = datetime.date(int(dtp[0]), int(dtp[1]), int(dtp[2]))\n",
    "\n",
    "    unixmilli = time.mktime(date_format.timetuple()) * 1000\n",
    "    return unixmilli\n",
    "\n",
    "img = imgs[0]\n",
    "meta = get_metadata(img)\n",
    "print(\"Datetime from image exif metadata: \", meta[\"DateTime\"])\n",
    "unixmil = exifdatetime_2_unixmilli(meta) \n",
    "print(\"Unix millisecond time: \", unixmil)\n",
    "dt = unixmilli_2_datetime(unixmil)\n",
    "print(\"Back to datetime string but in another format: \", dt)\n",
    "folderdate = folder_date_2_unixmilli(\"2022-03-29\")\n"
   ]
  },
  {
   "cell_type": "code",
   "execution_count": 12,
   "metadata": {},
   "outputs": [
    {
     "name": "stdout",
     "output_type": "stream",
     "text": [
      "../data/semifield-developed-images-trial/NC_2022-03-04/images/NC_6_2_1646421331000.0.jpg\n",
      "../data/semifield-developed-images-trial/NC_2022-03-04/images/NC_6_1_1646421311000.0.jpg\n",
      "../data/semifield-developed-images-trial/NC_2022-03-04/images/NC_3_2_1646419293000.0.jpg\n",
      "../data/semifield-developed-images-trial/NC_2022-03-04/images/NC_2_1_1646419092000.0.jpg\n",
      "../data/semifield-developed-images-trial/NC_2022-03-04/images/NC_1_2_1646418772000.0.jpg\n",
      "../data/semifield-developed-images-trial/NC_2022-03-04/images/NC_4_2_1646420037000.0.jpg\n",
      "../data/semifield-developed-images-trial/NC_2022-03-04/images/NC_2_3_1646419132000.0.jpg\n",
      "../data/semifield-developed-images-trial/NC_2022-03-04/images/NC_4_3_1646420347000.0.jpg\n",
      "../data/semifield-developed-images-trial/NC_2022-03-04/images/NC_1_1_1646418752000.0.jpg\n",
      "../data/semifield-developed-images-trial/NC_2022-03-04/images/NC_5_2_1646420631000.0.jpg\n",
      "../data/semifield-developed-images-trial/NC_2022-03-04/images/NC_3_1_1646419274000.0.jpg\n",
      "../data/semifield-developed-images-trial/NC_2022-03-04/images/NC_5_1_1646420612000.0.jpg\n",
      "../data/semifield-developed-images-trial/NC_2022-03-04/images/NC_2_2_1646419112000.0.jpg\n",
      "../data/semifield-developed-images-trial/NC_2022-03-04/images/NC_3_3_1646419313000.0.jpg\n",
      "../data/semifield-developed-images-trial/NC_2022-03-04/images/NC_4_1_1646420014000.0.jpg\n",
      "../data/semifield-developed-images-trial/NC_2022-03-04/images/NC_5_3_1646420652000.0.jpg\n",
      "../data/semifield-developed-images-trial/NC_2022-03-04/images/NC_6_3_1646421351000.0.jpg\n",
      "../data/semifield-developed-images-trial/NC_2022-03-04/images/NC_1_3_1646418792000.0.jpg\n"
     ]
    }
   ],
   "source": [
    "imgs = Path(\"../data/semifield-developed-images-trial/NC_2022-03-04/images\").glob(\"*.jpg\")\n",
    "imgs = [x for x in imgs]\n",
    "for img in imgs:\n",
    "\n",
    "    meta = get_metadata(img)\n",
    "    unixmil = exifdatetime_2_unixmilli(meta)\n",
    "    fstem = img.stem\n",
    "    parts = fstem.split(\"_\")\n",
    "    # state = parts[0]\n",
    "    state  = \"NC\"\n",
    "    stop = parts[-1]\n",
    "    row = parts[-2].replace(\"Row\", \"\")\n",
    "    src = img\n",
    "\n",
    "    dst = Path(img.parent, f\"{state}_{row}_{stop}_{unixmil}.jpg\")\n",
    "    print(dst)\n",
    "    # shutil.move(src, dst)\n",
    "    "
   ]
  },
  {
   "cell_type": "markdown",
   "metadata": {},
   "source": [
    "## Change Downscaled_Photos"
   ]
  },
  {
   "cell_type": "code",
   "execution_count": 17,
   "metadata": {},
   "outputs": [
    {
     "name": "stdout",
     "output_type": "stream",
     "text": [
      "../data/semifield-developed-images-trial/NC_2022-03-29/autosfm/downscaled_photos/NC_1_3_1648579026000.0.jpg\n",
      "../data/semifield-developed-images-trial/NC_2022-03-29/autosfm/downscaled_photos/NC_3_4_1648579561000.0.jpg\n",
      "../data/semifield-developed-images-trial/NC_2022-03-29/autosfm/downscaled_photos/NC_4_4_1648579313000.0.jpg\n",
      "../data/semifield-developed-images-trial/NC_2022-03-29/autosfm/downscaled_photos/NC_5_6_1648580258000.0.jpg\n",
      "../data/semifield-developed-images-trial/NC_2022-03-29/autosfm/downscaled_photos/NC_6_6_1648580423000.0.jpg\n",
      "../data/semifield-developed-images-trial/NC_2022-03-29/autosfm/downscaled_photos/NC_6_4_1648580383000.0.jpg\n",
      "../data/semifield-developed-images-trial/NC_2022-03-29/autosfm/downscaled_photos/NC_6_2_1648580342000.0.jpg\n",
      "../data/semifield-developed-images-trial/NC_2022-03-29/autosfm/downscaled_photos/NC_4_3_1648579293000.0.jpg\n",
      "../data/semifield-developed-images-trial/NC_2022-03-29/autosfm/downscaled_photos/NC_2_4_1648579783000.0.jpg\n",
      "../data/semifield-developed-images-trial/NC_2022-03-29/autosfm/downscaled_photos/NC_3_6_1648579600000.0.jpg\n",
      "../data/semifield-developed-images-trial/NC_2022-03-29/autosfm/downscaled_photos/NC_2_2_1648579741000.0.jpg\n",
      "../data/semifield-developed-images-trial/NC_2022-03-29/autosfm/downscaled_photos/NC_5_4_1648580219000.0.jpg\n",
      "../data/semifield-developed-images-trial/NC_2022-03-29/autosfm/downscaled_photos/NC_4_1_1648579252000.0.jpg\n",
      "../data/semifield-developed-images-trial/NC_2022-03-29/autosfm/downscaled_photos/NC_5_1_1648580158000.0.jpg\n",
      "../data/semifield-developed-images-trial/NC_2022-03-29/autosfm/downscaled_photos/NC_1_4_1648579046000.0.jpg\n",
      "../data/semifield-developed-images-trial/NC_2022-03-29/autosfm/downscaled_photos/NC_2_6_1648579824000.0.jpg\n",
      "../data/semifield-developed-images-trial/NC_2022-03-29/autosfm/downscaled_photos/NC_6_3_1648580362000.0.jpg\n",
      "../data/semifield-developed-images-trial/NC_2022-03-29/autosfm/downscaled_photos/NC_5_2_1648580178000.0.jpg\n",
      "../data/semifield-developed-images-trial/NC_2022-03-29/autosfm/downscaled_photos/NC_1_5_1648579066000.0.jpg\n",
      "../data/semifield-developed-images-trial/NC_2022-03-29/autosfm/downscaled_photos/NC_2_1_1648579721000.0.jpg\n",
      "../data/semifield-developed-images-trial/NC_2022-03-29/autosfm/downscaled_photos/NC_6_5_1648580403000.0.jpg\n",
      "../data/semifield-developed-images-trial/NC_2022-03-29/autosfm/downscaled_photos/NC_6_1_1648580321000.0.jpg\n",
      "../data/semifield-developed-images-trial/NC_2022-03-29/autosfm/downscaled_photos/NC_4_2_1648579273000.0.jpg\n",
      "../data/semifield-developed-images-trial/NC_2022-03-29/autosfm/downscaled_photos/NC_3_1_1648579499000.0.jpg\n",
      "../data/semifield-developed-images-trial/NC_2022-03-29/autosfm/downscaled_photos/NC_3_5_1648579581000.0.jpg\n",
      "../data/semifield-developed-images-trial/NC_2022-03-29/autosfm/downscaled_photos/NC_5_5_1648580239000.0.jpg\n",
      "../data/semifield-developed-images-trial/NC_2022-03-29/autosfm/downscaled_photos/NC_3_2_1648579520000.0.jpg\n",
      "../data/semifield-developed-images-trial/NC_2022-03-29/autosfm/downscaled_photos/NC_4_5_1648579334000.0.jpg\n",
      "../data/semifield-developed-images-trial/NC_2022-03-29/autosfm/downscaled_photos/NC_1_1_1648578985000.0.jpg\n",
      "../data/semifield-developed-images-trial/NC_2022-03-29/autosfm/downscaled_photos/NC_2_3_1648579762000.0.jpg\n",
      "../data/semifield-developed-images-trial/NC_2022-03-29/autosfm/downscaled_photos/NC_2_5_1648579805000.0.jpg\n",
      "../data/semifield-developed-images-trial/NC_2022-03-29/autosfm/downscaled_photos/NC_3_3_1648579540000.0.jpg\n",
      "../data/semifield-developed-images-trial/NC_2022-03-29/autosfm/downscaled_photos/NC_1_6_1648579086000.0.jpg\n",
      "../data/semifield-developed-images-trial/NC_2022-03-29/autosfm/downscaled_photos/NC_5_3_1648580199000.0.jpg\n",
      "../data/semifield-developed-images-trial/NC_2022-03-29/autosfm/downscaled_photos/NC_1_2_1648579005000.0.jpg\n",
      "../data/semifield-developed-images-trial/NC_2022-03-29/autosfm/downscaled_photos/NC_4_6_1648579353000.0.jpg\n"
     ]
    }
   ],
   "source": [
    "imgs = Path(\"../data/semifield-developed-images-trial/NC_2022-03-29/autosfm/downscaled_photos\").glob(\"*.jpg\")\n",
    "imgs = [x for x in imgs]\n",
    "for img in imgs:\n",
    "    meta = get_metadata(img)\n",
    "    unixmil = exifdatetime_2_unixmilli(meta)\n",
    "    fstem = img.stem\n",
    "    fstem = fstem.replace(\"row\", \"\")\n",
    "    parts = fstem.split(\"_\")\n",
    "    state = \"NC\"\n",
    "    stop = parts[-1]\n",
    "    row = parts[-2].replace(\"row\", \"\")\n",
    "    src = img\n",
    "    dst = Path(img.parent, f\"{state}_{row}_{stop}_{unixmil}.jpg\")\n",
    "    print(dst)\n",
    "\n",
    "    # shutil.move(src, dst)"
   ]
  },
  {
   "cell_type": "code",
   "execution_count": 85,
   "metadata": {},
   "outputs": [],
   "source": [
    "imgs = Path(\"../blob_container/semifield-developed-images-trial/NC_2022-04-05\").glob(\"*.jpg\")\n",
    "imgs = [x for x in imgs]\n",
    "for img in imgs:\n",
    "    fstem = img.stem\n",
    "    parts = fstem.split(\"_\")[1:]\n",
    "    join_parts = \"_\".join(parts)\n",
    "    dst = Path(img.parent, f\"NC_{join_parts}.jpg\")\n",
    "    src = img\n",
    "    # shutil.move(src, dst)"
   ]
  },
  {
   "cell_type": "code",
   "execution_count": 22,
   "metadata": {},
   "outputs": [
    {
     "name": "stdout",
     "output_type": "stream",
     "text": [
      "['2022', '03', '29']\n",
      "1648530000000.0\n",
      "2022-03-29 00:00:00\n"
     ]
    }
   ],
   "source": [
    "# change folder name\n",
    "dir = Path(\"../blob_container/semifield-developed-images-trial/NC_2022-04-05\")\n",
    "dirdate = dir.name.split(\"_\")[1]\n",
    "dir_unixmilli = folder_date_2_unixmilli(dirdate)\n",
    "print(dir_unixmilli)\n",
    "dt = unixmilli_2_datetime(dir_unixmilli)\n",
    "print(dt)\n",
    "# Path(f\"../blob_container/semifield-developed-images-trial/NC_{dir_unixmilli}\").mkdir()\n",
    "\n"
   ]
  },
  {
   "cell_type": "code",
   "execution_count": null,
   "metadata": {},
   "outputs": [],
   "source": []
  }
 ],
 "metadata": {
  "interpreter": {
   "hash": "59b627dbbc37ebbb1d7be1ff42181d533d94977a5210449e7ff5229441e2702b"
  },
  "kernelspec": {
   "display_name": "Python 3.9.12 ('autoann')",
   "language": "python",
   "name": "python3"
  },
  "language_info": {
   "codemirror_mode": {
    "name": "ipython",
    "version": 3
   },
   "file_extension": ".py",
   "mimetype": "text/x-python",
   "name": "python",
   "nbconvert_exporter": "python",
   "pygments_lexer": "ipython3",
   "version": "3.9.12"
  },
  "orig_nbformat": 4
 },
 "nbformat": 4,
 "nbformat_minor": 2
}
