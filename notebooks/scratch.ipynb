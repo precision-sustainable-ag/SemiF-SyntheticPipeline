{
 "cells": [
  {
   "cell_type": "code",
   "execution_count": 1,
   "metadata": {},
   "outputs": [],
   "source": [
    "from pathlib import Path\n",
    "import shutil\n",
    "test = [1,2,3,4,5,6]"
   ]
  },
  {
   "cell_type": "code",
   "execution_count": 37,
   "metadata": {},
   "outputs": [],
   "source": [
    "# cutoutdir = Path(\"/home/weedsci/matt/SemiF-AnnotationPipeline/data/semifield-developed-images\")\n",
    "cutoutdir = Path(\"/media/hdd1/mkutu/wir/semifield-developed-images\")\n",
    "glob = sorted(list(cutoutdir.glob(\"*\")))\n",
    "lastimgs_list = []\n",
    "for x in glob:\n",
    "    if not str(x.name).startswith(\".\"):\n",
    "        lastimgs = sorted(list(Path(cutoutdir, x.name, \"images\").glob(\"*.jpg\")))[-3:]\n",
    "        for img in lastimgs:\n",
    "            lastimgs_list.append(img)"
   ]
  },
  {
   "cell_type": "code",
   "execution_count": 38,
   "metadata": {},
   "outputs": [],
   "source": [
    "len(lastimgs_list)\n",
    "savedir = Path(\"/home/weedsci/matt/SemiF-SyntheticPipeline/data/semifield-synth/possible_backgrounds\")\n",
    "for img in lastimgs_list:\n",
    "    imgname = Path(img).name\n",
    "    dst = Path(savedir, imgname)\n",
    "    # shutil.copy2(img, dst)"
   ]
  },
  {
   "cell_type": "code",
   "execution_count": 24,
   "metadata": {},
   "outputs": [
    {
     "data": {
      "text/plain": [
       "1.0"
      ]
     },
     "execution_count": 24,
     "metadata": {},
     "output_type": "execute_result"
    }
   ],
   "source": [
    "\n"
   ]
  }
 ],
 "metadata": {
  "kernelspec": {
   "display_name": "Python 3.9.0 ('semif_gpu')",
   "language": "python",
   "name": "python3"
  },
  "language_info": {
   "codemirror_mode": {
    "name": "ipython",
    "version": 3
   },
   "file_extension": ".py",
   "mimetype": "text/x-python",
   "name": "python",
   "nbconvert_exporter": "python",
   "pygments_lexer": "ipython3",
   "version": "3.9.0"
  },
  "orig_nbformat": 4,
  "vscode": {
   "interpreter": {
    "hash": "0761b86a138a7d55b4f3c23d47d2d15f86714bfdaf7e37a783fa5b2853fc7c70"
   }
  }
 },
 "nbformat": 4,
 "nbformat_minor": 2
}
