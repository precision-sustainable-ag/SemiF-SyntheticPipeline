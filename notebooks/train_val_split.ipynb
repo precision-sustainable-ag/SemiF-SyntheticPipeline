{
 "cells": [
  {
   "cell_type": "code",
   "execution_count": 6,
   "metadata": {},
   "outputs": [],
   "source": [
    "from pathlib import Path\n",
    "import numpy as np\n",
    "from sklearn.model_selection import train_test_split\n",
    "import shutil"
   ]
  },
  {
   "cell_type": "code",
   "execution_count": 15,
   "metadata": {},
   "outputs": [],
   "source": [
    "datadir = Path(\n",
    "    \"/home/weedsci/matt/SemiF-SyntheticPipeline/data/exp_1/2022-10-24/12-09-11\"\n",
    ")\n",
    "src_imgs = list(Path(datadir, \"images\").glob(\"*.png\"))[:3100]\n",
    "src_lbls = list(Path(datadir, \"labels\").glob(\"*.txt\"))[:3100]\n",
    "\n",
    "dst_train_imgs = datadir / \"train\" / \"images\"\n",
    "dst_train_lbls = datadir / \"train\" / \"labels\"\n",
    "dst_val_imgs = datadir / \"val\" / \"images\"\n",
    "dst_val_labels = datadir / \"val\" / \"labels\"\n"
   ]
  },
  {
   "cell_type": "code",
   "execution_count": 16,
   "metadata": {},
   "outputs": [],
   "source": [
    " X_train, X_test, y_train, y_test = train_test_split(src_imgs, src_lbls, test_size=0.2, random_state=1)"
   ]
  },
  {
   "cell_type": "code",
   "execution_count": 18,
   "metadata": {},
   "outputs": [
    {
     "ename": "KeyboardInterrupt",
     "evalue": "",
     "output_type": "error",
     "traceback": [
      "\u001b[0;31m---------------------------------------------------------------------------\u001b[0m",
      "\u001b[0;31mKeyboardInterrupt\u001b[0m                         Traceback (most recent call last)",
      "\u001b[1;32m/home/weedsci/matt/SemiF-SyntheticPipeline/notebooks/train_val_split.ipynb Cell 4\u001b[0m in \u001b[0;36m<cell line: 3>\u001b[0;34m()\u001b[0m\n\u001b[1;32m      <a href='vscode-notebook-cell:/home/weedsci/matt/SemiF-SyntheticPipeline/notebooks/train_val_split.ipynb#W3sZmlsZQ%3D%3D?line=7'>8</a>\u001b[0m src_stem \u001b[39m=\u001b[39m xtra\u001b[39m.\u001b[39mstem\n\u001b[1;32m     <a href='vscode-notebook-cell:/home/weedsci/matt/SemiF-SyntheticPipeline/notebooks/train_val_split.ipynb#W3sZmlsZQ%3D%3D?line=9'>10</a>\u001b[0m dst_path \u001b[39m=\u001b[39m Path(dst_dir, src_name)\n\u001b[0;32m---> <a href='vscode-notebook-cell:/home/weedsci/matt/SemiF-SyntheticPipeline/notebooks/train_val_split.ipynb#W3sZmlsZQ%3D%3D?line=12'>13</a>\u001b[0m shutil\u001b[39m.\u001b[39;49mcopy2(xtra, dst_path)\n",
      "File \u001b[0;32m~/miniconda3/envs/semif_gpu/lib/python3.9/shutil.py:432\u001b[0m, in \u001b[0;36mcopy2\u001b[0;34m(src, dst, follow_symlinks)\u001b[0m\n\u001b[1;32m    430\u001b[0m \u001b[39mif\u001b[39;00m os\u001b[39m.\u001b[39mpath\u001b[39m.\u001b[39misdir(dst):\n\u001b[1;32m    431\u001b[0m     dst \u001b[39m=\u001b[39m os\u001b[39m.\u001b[39mpath\u001b[39m.\u001b[39mjoin(dst, os\u001b[39m.\u001b[39mpath\u001b[39m.\u001b[39mbasename(src))\n\u001b[0;32m--> 432\u001b[0m copyfile(src, dst, follow_symlinks\u001b[39m=\u001b[39;49mfollow_symlinks)\n\u001b[1;32m    433\u001b[0m copystat(src, dst, follow_symlinks\u001b[39m=\u001b[39mfollow_symlinks)\n\u001b[1;32m    434\u001b[0m \u001b[39mreturn\u001b[39;00m dst\n",
      "File \u001b[0;32m~/miniconda3/envs/semif_gpu/lib/python3.9/shutil.py:272\u001b[0m, in \u001b[0;36mcopyfile\u001b[0;34m(src, dst, follow_symlinks)\u001b[0m\n\u001b[1;32m    270\u001b[0m \u001b[39melif\u001b[39;00m _USE_CP_SENDFILE:\n\u001b[1;32m    271\u001b[0m     \u001b[39mtry\u001b[39;00m:\n\u001b[0;32m--> 272\u001b[0m         _fastcopy_sendfile(fsrc, fdst)\n\u001b[1;32m    273\u001b[0m         \u001b[39mreturn\u001b[39;00m dst\n\u001b[1;32m    274\u001b[0m     \u001b[39mexcept\u001b[39;00m _GiveupOnFastCopy:\n",
      "File \u001b[0;32m~/miniconda3/envs/semif_gpu/lib/python3.9/shutil.py:149\u001b[0m, in \u001b[0;36m_fastcopy_sendfile\u001b[0;34m(fsrc, fdst)\u001b[0m\n\u001b[1;32m    147\u001b[0m \u001b[39mwhile\u001b[39;00m \u001b[39mTrue\u001b[39;00m:\n\u001b[1;32m    148\u001b[0m     \u001b[39mtry\u001b[39;00m:\n\u001b[0;32m--> 149\u001b[0m         sent \u001b[39m=\u001b[39m os\u001b[39m.\u001b[39;49msendfile(outfd, infd, offset, blocksize)\n\u001b[1;32m    150\u001b[0m     \u001b[39mexcept\u001b[39;00m \u001b[39mOSError\u001b[39;00m \u001b[39mas\u001b[39;00m err:\n\u001b[1;32m    151\u001b[0m         \u001b[39m# ...in oder to have a more informative exception.\u001b[39;00m\n\u001b[1;32m    152\u001b[0m         err\u001b[39m.\u001b[39mfilename \u001b[39m=\u001b[39m fsrc\u001b[39m.\u001b[39mname\n",
      "\u001b[0;31mKeyboardInterrupt\u001b[0m: "
     ]
    }
   ],
   "source": [
    "\n",
    "dst_dir = dst_train_imgs\n",
    "# dst_dir.mkdir(parents=True)\n",
    "for xtra in X_train:\n",
    "    \n",
    "    \n",
    "    src = xtra\n",
    "    src_name = xtra.name\n",
    "    src_stem = xtra.stem\n",
    "\n",
    "    dst_path = Path(dst_dir, src_name)\n",
    "    \n",
    "\n",
    "    shutil.copy2(xtra, dst_path)"
   ]
  },
  {
   "cell_type": "code",
   "execution_count": null,
   "metadata": {},
   "outputs": [],
   "source": []
  }
 ],
 "metadata": {
  "kernelspec": {
   "display_name": "Python 3.9.0 ('semif_gpu')",
   "language": "python",
   "name": "python3"
  },
  "language_info": {
   "codemirror_mode": {
    "name": "ipython",
    "version": 3
   },
   "file_extension": ".py",
   "mimetype": "text/x-python",
   "name": "python",
   "nbconvert_exporter": "python",
   "pygments_lexer": "ipython3",
   "version": "3.9.0"
  },
  "orig_nbformat": 4,
  "vscode": {
   "interpreter": {
    "hash": "0761b86a138a7d55b4f3c23d47d2d15f86714bfdaf7e37a783fa5b2853fc7c70"
   }
  }
 },
 "nbformat": 4,
 "nbformat_minor": 2
}
