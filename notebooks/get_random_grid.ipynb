{
 "cells": [
  {
   "cell_type": "code",
   "execution_count": 97,
   "metadata": {},
   "outputs": [],
   "source": [
    "import numpy as np\n",
    "from random import randrange as rd\n",
    "import math\n",
    "from math import sqrt\n",
    "import matplotlib.pyplot as plt\n"
   ]
  },
  {
   "cell_type": "code",
   "execution_count": 103,
   "metadata": {},
   "outputs": [],
   "source": [
    "def compare_points(pt1, pts, dist_thresh=400):\n",
    "    if len(pts) == 0:\n",
    "        return False\n",
    "    trues = []\n",
    "    \n",
    "    for pt in pts:    \n",
    "        dist = math.dist(pt1, pt)\n",
    "        \n",
    "        if dist > dist_thresh:\n",
    "            trues.append(True)\n",
    "        else:\n",
    "            trues.append(False)\n",
    "    return all(trues)"
   ]
  },
  {
   "cell_type": "code",
   "execution_count": 115,
   "metadata": {},
   "outputs": [],
   "source": [
    "def rand_positions(minx, maxx, miny, maxy, num_points, min_distance):\n",
    "    \"\"\"Gets random point positions. Returns a list of positions that are \n",
    "    separated by a certain distance and within a given bounds.\n",
    "\n",
    "    Args:\n",
    "        minx (int): min x for all points\n",
    "        maxx (int): max x for all points\n",
    "        miny (int): min y for all points\n",
    "        maxy (int): max y for all points\n",
    "        num_points (int): number of points to return\n",
    "        min_distance (int): minimum distance between points (euclidean distance)\n",
    "\n",
    "    Returns:\n",
    "        redptlist (list): list of all points\n",
    "    \"\"\"\n",
    "    ptBlu = [0,0]\n",
    "    redptlist=[] #inizialize a void lists for red point coordinates\n",
    "\n",
    "    pointcounter=0 #initizlize counter for the while loop\n",
    "    while True: #create a potentailly infinite loop! pay attention!\n",
    "        if pointcounter<num_points: #set the number of point you want to add (in this case 20)\n",
    "                x_RedPtshift=rd(minx, maxx,1) #x shift of a red point \n",
    "                y_RedPtshift=rd(miny, maxy,1) #y shift of a red point\n",
    "                ptRedx=ptBlu[0]+ x_RedPtshift#x coordinate of a red point\n",
    "                ptRedy=ptBlu[1]+ y_RedPtshift #y coordinate of a red point\n",
    "                ptRed=[ptRedx,ptRedy]\n",
    "                if len(redptlist) == 0:\n",
    "                     separated = True\n",
    "                else:\n",
    "                    separated = compare_points(ptRed, redptlist, dist_thresh=min_distance)\n",
    "                if separated:\n",
    "                    redptlist.append(ptRed) # add to a list with this notation [x1,y1],[x2,y2]\n",
    "                    \n",
    "                    pointcounter+=1 #add one to the counter of how many points you have in your list \n",
    "        else: #when pointcounter reach the number of points you want the while cicle ends\n",
    "            break\n",
    "    return redptlist"
   ]
  },
  {
   "cell_type": "code",
   "execution_count": 121,
   "metadata": {},
   "outputs": [
    {
     "data": {
      "image/png": "[encoded data removed]",
      "text/plain": [
       "<Figure size 640x480 with 1 Axes>"
      ]
     },
     "metadata": {},
     "output_type": "display_data"
    }
   ],
   "source": [
    "minx = 0\n",
    "maxx= 9560\n",
    "miny = 0\n",
    "maxy = 6368\n",
    "num_points = 4\n",
    "min_distance = 400\n",
    "\n",
    "# Get points\n",
    "ptBlu = rand_positions(minx, maxx, miny, maxy, num_points, min_distance)\n",
    "\n",
    "# Separate to plot\n",
    "xredptlist = [x[0] for x in ptBlu] \n",
    "yredptlist = [x[1] for x in ptBlu]\n",
    "\n",
    "# Plot\n",
    "plt.plot(xredptlist, yredptlist, 'ro')#plot red points\n",
    "fig = plt.gcf()\n",
    "plt.axis([-100, 10500, -200, 6800])\n",
    "plt.grid(True)\n",
    "plt.show()"
   ]
  },
  {
   "cell_type": "code",
   "execution_count": null,
   "metadata": {},
   "outputs": [],
   "source": []
  }
 ],
 "metadata": {
  "kernelspec": {
   "display_name": "semif",
   "language": "python",
   "name": "python3"
  },
  "language_info": {
   "codemirror_mode": {
    "name": "ipython",
    "version": 3
   },
   "file_extension": ".py",
   "mimetype": "text/x-python",
   "name": "python",
   "nbconvert_exporter": "python",
   "pygments_lexer": "ipython3",
   "version": "3.9.16"
  },
  "orig_nbformat": 4
 },
 "nbformat": 4,
 "nbformat_minor": 2
}
