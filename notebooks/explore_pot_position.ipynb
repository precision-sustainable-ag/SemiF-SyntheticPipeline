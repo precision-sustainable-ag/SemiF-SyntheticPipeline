{
 "cells": [
  {
   "cell_type": "code",
   "execution_count": 1,
   "metadata": {},
   "outputs": [],
   "source": [
    "import numpy as np\n",
    "import cv2\n",
    "import math\n",
    "import itertools\n",
    "import random"
   ]
  },
  {
   "cell_type": "code",
   "execution_count": 4,
   "metadata": {},
   "outputs": [
    {
     "data": {
      "text/plain": [
       "(6368, 9560, 3)"
      ]
     },
     "execution_count": 4,
     "metadata": {},
     "output_type": "execute_result"
    }
   ],
   "source": [
    "path = \"../data/semifield-developed-images/MD_2022-06-21/images/MD_1_1_1655826588.0.jpg\"\n",
    "img = cv2.imread(path)\n",
    "img.shape\n"
   ]
  },
  {
   "cell_type": "code",
   "execution_count": 3,
   "metadata": {},
   "outputs": [
    {
     "data": {
      "text/plain": [
       "[(1592, 3184), (4779, 3184), (7966, 3184)]"
      ]
     },
     "execution_count": 3,
     "metadata": {},
     "output_type": "execute_result"
    }
   ],
   "source": [
    "def rand_pot_grid(img_shape):\n",
    "    \"\"\"Creates a set of grid-like coordinates based on image size.\n",
    "       The number of coordinates (pots) is based on randomely choosing\n",
    "       the number rows and columns. Coordinates are evenly spaced both \n",
    "       vertically and horizontally based on image shape and number of \n",
    "       rows and columns. Zero coordinates are removed as are the maximum\n",
    "       extent of the image (img.shape).\n",
    "\n",
    "    Args:\n",
    "        img_shape (tuple): shape of image\n",
    "\n",
    "    Returns:\n",
    "        coords: evenly spaced coordinates\n",
    "    \"\"\"\n",
    "    \n",
    "    imght, imgwid = img_shape[:2]\n",
    "    \n",
    "    rand_wid = random.randint(2,5)\n",
    "    rand_ht = random.choice([2,3])\n",
    "\n",
    "    # Create width locations\n",
    "    wid = np.linspace(0,imgwid, rand_wid, dtype=int)\n",
    "    wid = wid[wid != 0]\n",
    "    diff = np.diff(wid)\n",
    "    wid_diff = diff[0] if len(diff) > 1 else 0\n",
    "    wid = [(x - math.ceil(wid_diff/2)) if wid_diff != 0 else math.ceil(x/2) for x in wid] # Accounts for 0 diff\n",
    "    \n",
    "    # Create height locations\n",
    "    ht = np.linspace(0, imght, rand_ht, dtype=int)\n",
    "    ht_diff = np.diff(ht)[0]\n",
    "    ht = ht[ht != img.shape[0]]\n",
    "    ht = [(x + int(ht_diff/2)) for x in ht]\n",
    "\n",
    "    # Combine height and width to make coordinates\n",
    "    coords = list(itertools.product(wid, ht))\n",
    "    \n",
    "    return coords\n",
    "\n",
    "rand_pot_grid(img.shape)"
   ]
  }
 ],
 "metadata": {
  "interpreter": {
   "hash": "59b627dbbc37ebbb1d7be1ff42181d533d94977a5210449e7ff5229441e2702b"
  },
  "kernelspec": {
   "display_name": "Python 3.9.12 ('autoann')",
   "language": "python",
   "name": "python3"
  },
  "language_info": {
   "codemirror_mode": {
    "name": "ipython",
    "version": 3
   },
   "file_extension": ".py",
   "mimetype": "text/x-python",
   "name": "python",
   "nbconvert_exporter": "python",
   "pygments_lexer": "ipython3",
   "version": "3.9.12"
  },
  "orig_nbformat": 4
 },
 "nbformat": 4,
 "nbformat_minor": 2
}
