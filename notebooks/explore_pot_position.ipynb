{
 "cells": [
  {
   "cell_type": "code",
   "execution_count": 87,
   "metadata": {},
   "outputs": [],
   "source": [
    "import numpy as np\n",
    "import cv2\n",
    "import math\n",
    "import itertools\n",
    "import random\n",
    "import matplotlib.pyplot as plt"
   ]
  },
  {
   "cell_type": "code",
   "execution_count": 78,
   "metadata": {},
   "outputs": [
    {
     "data": {
      "text/plain": [
       "(6368, 9560, 3)"
      ]
     },
     "execution_count": 78,
     "metadata": {},
     "output_type": "execute_result"
    }
   ],
   "source": [
    "path = \"../../SemiF-AnnotationPipeline/data/semifield-developed-images/NC_2022-08-05/images/NC_1659702473.jpg\"\n",
    "img = cv2.imread(path)\n",
    "img.shape\n"
   ]
  },
  {
   "cell_type": "code",
   "execution_count": 748,
   "metadata": {},
   "outputs": [
    {
     "data": {
      "image/png": "[encoded data removed]",
      "text/plain": [
       "<Figure size 432x288 with 1 Axes>"
      ]
     },
     "metadata": {
      "needs_background": "light"
     },
     "output_type": "display_data"
    }
   ],
   "source": [
    "def rand_pot_grid(img_shape):\n",
    "    \"\"\"Creates a set of grid-like coordinates based on image size.\n",
    "       The number of coordinates (pots) is based on randomely choosing\n",
    "       the number rows and columns. Coordinates are evenly spaced both \n",
    "       vertically and horizontally based on image shape and number of \n",
    "       rows and columns. Zero coordinates are removed as are the maximum\n",
    "       extent of the image (img.shape).\n",
    "\n",
    "    Args:\n",
    "        img_shape (tuple): shape of image\n",
    "\n",
    "    Returns:\n",
    "        coords: evenly spaced coordinates\n",
    "    \"\"\"\n",
    "    \n",
    "    imght, imgwid = img_shape[:2]\n",
    "    \n",
    "    rand_wid = random.randint(2,5)\n",
    "    # rand_wid = 3\n",
    "    rand_ht = random.choice([2,3])  \n",
    "    # rand_ht = 2\n",
    "    \n",
    "    # Create width locations\n",
    "    wid = np.linspace(0,imgwid, rand_wid, dtype=int)\n",
    "    wid = wid[wid != 0]\n",
    "    wid_diff = np.diff(wid)\n",
    "    \n",
    "    if len(wid_diff) >= 2:\n",
    "        wid_diff = wid_diff[0]    \n",
    "    wid = [(x - math.ceil(wid_diff/2)) if wid_diff != 0 else math.ceil(x/2) for x in wid] # Accounts for 0 diff\n",
    "    \n",
    "    # Create height locations\n",
    "    ht = np.linspace(0, imght, rand_ht, dtype=int)\n",
    "    ht_diff = np.diff(ht)[0]\n",
    "    ht = ht[ht != imght]\n",
    "    ht = [(x + int(ht_diff/2)) for x in ht]\n",
    "    \n",
    "    # Combine height and width to make coordinates\n",
    "    coords = list(itertools.product(wid, ht))\n",
    "    \n",
    "    rand_x = 100 if rand_wid >= 4 else 600\n",
    "    rand_y = 100 if (rand_ht == 3) and (rand_wid >=4) else 700\n",
    "    coords = [(x + random.randint(-rand_x,rand_x), y + random.randint(-rand_y,rand_y)) for x, y in coords]\n",
    "    return coords\n",
    "    \n",
    "imght, imgwid = img.shape[:2]\n",
    "coords = rand_pot_grid(img.shape)\n",
    "xx = [x for x, y in coords]\n",
    "yy = [y for x, y in coords]\n",
    "plt.scatter(xx,yy)  \n",
    "plt.xlim((0,imgwid))\n",
    "plt.ylim((imght, 0))\n",
    "plt.show()"
   ]
  },
  {
   "cell_type": "code",
   "execution_count": null,
   "metadata": {},
   "outputs": [],
   "source": []
  }
 ],
 "metadata": {
  "kernelspec": {
   "display_name": "Python 3.9.0 ('semif_gpu')",
   "language": "python",
   "name": "python3"
  },
  "language_info": {
   "codemirror_mode": {
    "name": "ipython",
    "version": 3
   },
   "file_extension": ".py",
   "mimetype": "text/x-python",
   "name": "python",
   "nbconvert_exporter": "python",
   "pygments_lexer": "ipython3",
   "version": "3.9.0"
  },
  "orig_nbformat": 4,
  "vscode": {
   "interpreter": {
    "hash": "0761b86a138a7d55b4f3c23d47d2d15f86714bfdaf7e37a783fa5b2853fc7c70"
   }
  }
 },
 "nbformat": 4,
 "nbformat_minor": 2
}
