{
 "cells": [
  {
   "cell_type": "code",
   "execution_count": 1,
   "metadata": {},
   "outputs": [],
   "source": [
    "import numpy as np"
   ]
  },
  {
   "cell_type": "code",
   "execution_count": 11,
   "metadata": {},
   "outputs": [
    {
     "name": "stdout",
     "output_type": "stream",
     "text": [
      "Origin (0,0)\n",
      "   Xs         Ys         angles     dist      \n",
      "[[   1.        1.       45.        1.4142]\n",
      " [   1.        2.       63.4349    2.2361]\n",
      " [  -3.        3.      135.        4.2426]\n",
      " [  -4.       -4.     -135.        5.6569]\n",
      " [   5.       -5.      -45.        7.0711]]\n"
     ]
    }
   ],
   "source": [
    "np.set_printoptions(edgeitems=5,linewidth=80,precision=4,suppress=True,threshold=10)\n",
    "cent = np.array([0,0],dtype=\"float64\")\n",
    "pnts = np.array([[1,1],[1,2],[-3,3],[-4,-4],[5,-5]],dtype=\"float64\")\n",
    "Xs = pnts[:,0]\n",
    "Ys = pnts[:,1]\n",
    "diff = pnts-cent\n",
    "angles= np.degrees(np.arctan2(diff[:,1],diff[:,0]))\n",
    "dist = np.hypot(diff[:,0],diff[:,1])\n",
    "data = np.vstack((Xs,Ys,angles,dist)).T\n",
    "\n",
    "print(\"Origin (0,0)\\n   {:<10s} {:<10s} {:<10s} {:<10s}\".format(\"Xs\",\"Ys\",\"angles\",\"dist\"))\n",
    "print(\"{}\".format(data))"
   ]
  },
  {
   "cell_type": "code",
   "execution_count": 29,
   "metadata": {},
   "outputs": [
    {
     "data": {
      "text/plain": [
       "array([[ 1.,  1.],\n",
       "       [ 1.,  2.],\n",
       "       [-3.,  3.],\n",
       "       [-4., -4.],\n",
       "       [ 5., -5.]])"
      ]
     },
     "execution_count": 29,
     "metadata": {},
     "output_type": "execute_result"
    }
   ],
   "source": [
    "angles= np.degrees(np.arctan2(diff[:,1],diff[:,0]))\n",
    "dist = np.hypot(diff[:,0],diff[:,1])\n",
    "dist\n",
    "diff\n",
    "cent\n",
    "pnts\n",
    "diff\n",
    "# angles"
   ]
  },
  {
   "cell_type": "code",
   "execution_count": 4,
   "metadata": {},
   "outputs": [
    {
     "name": "stdout",
     "output_type": "stream",
     "text": [
      "Origin (0,0)\n",
      "  angles     dist       Xn         Yn        \n",
      "[[  45.        1.4142    1.        1.    ]\n",
      " [  63.4349    2.2361    1.        2.    ]\n",
      " [ 135.        4.2426   -3.        3.    ]\n",
      " [-135.        5.6569   -4.       -4.    ]\n",
      " [ -45.        7.0711    5.       -5.    ]]\n"
     ]
    }
   ],
   "source": [
    "# Now only distance and angle are known.  Calculate the point coordinates from distance and angle\n",
    "angles= np.degrees(np.arctan2(diff[:,1],diff[:,0]))\n",
    "dist = np.hypot(diff[:,0],diff[:,1])\n",
    "rads = np.deg2rad(angles)\n",
    "sines = np.sin(rads)\n",
    "coses = np.cos(rads)\n",
    "Xn = sines * dist\n",
    "Yn = coses * dist\n",
    "data = np.vstack((angles,dist,Xs,Ys)).T\n",
    "\n",
    "print(\"Origin (0,0)\\n  {:<10s} {:<10s} {:<10s} {:<10s}\".format(\"angles\",\"dist\",\"Xn\",\"Yn\"))\n",
    "print(\"{}\".format(data))"
   ]
  },
  {
   "cell_type": "code",
   "execution_count": 26,
   "metadata": {},
   "outputs": [
    {
     "name": "stdout",
     "output_type": "stream",
     "text": [
      "final from Xc,Yc,Xs,Ys\n",
      "[[ 0.  0.  1.  1.]\n",
      " [ 0.  0.  1.  2.]\n",
      " [ 0.  0. -3.  3.]\n",
      " [ 0.  0. -4. -4.]\n",
      " [ 0.  0.  5. -5.]]\n"
     ]
    }
   ],
   "source": [
    "N = len(Xs)\n",
    "Xc = np.empty(N)\n",
    "Xc.fill(0.) # coincidently 0,0 is used as the center\n",
    "Yc = np.empty(N)\n",
    "Yc.fill(0.)\n",
    "pairs = np.array(list(zip(Xc,Yc,Xs,Ys)))\n",
    "print(\"final from Xc,Yc,Xs,Ys\\n{}\".format(pairs))"
   ]
  },
  {
   "cell_type": "code",
   "execution_count": 53,
   "metadata": {},
   "outputs": [
    {
     "data": {
      "text/plain": [
       "<matplotlib.collections.PathCollection at 0x7fbffb58e2e0>"
      ]
     },
     "execution_count": 53,
     "metadata": {},
     "output_type": "execute_result"
    },
    {
     "data": {
      "image/png": "[encoded data removed]",
      "text/plain": [
       "<Figure size 432x288 with 1 Axes>"
      ]
     },
     "metadata": {
      "needs_background": "light"
     },
     "output_type": "display_data"
    }
   ],
   "source": [
    "lat, lon = 1600,2800  #center coordinate\n",
    "dist, coors = 100, 6 #meters, num coordinates in each direction\n",
    "#Creating the offset grid\n",
    "mini, maxi = -dist*coors, dist*coors\n",
    "n_coord = coors*2+1\n",
    "axis = np.linspace(mini, maxi, n_coord)\n",
    "X, Y = np.meshgrid(axis, axis)\n",
    "#avation formulate for offsetting the latlong by offset matrices\n",
    "R = 1 #earth's radius\n",
    "dLat = X/R\n",
    "dLon = Y/(R*np.cos(np.pi*lat/180))\n",
    "latO = lat + dLat #* 180/np.pi\n",
    "lonO = lon + dLon #* 180/np.pi\n",
    "#stack x and y latlongs and get (lat,long) format\n",
    "output = np.stack([latO , lonO]).transpose(1,2,0)\n",
    "output.shape\n",
    "import matplotlib.pyplot as plt\n",
    "\n",
    "points = output.reshape(-1,2)\n",
    "x = points[:,0]\n",
    "y = points[:,1]\n",
    "\n",
    "plt.scatter(x,y)              #<- plot all points\n",
    "plt.scatter(lat,lon,color='r') #<- plot the center lat long\n"
   ]
  },
  {
   "cell_type": "code",
   "execution_count": 192,
   "metadata": {},
   "outputs": [
    {
     "name": "stdout",
     "output_type": "stream",
     "text": [
      "1600 3000\n",
      "934 3076\n"
     ]
    },
    {
     "data": {
      "text/plain": [
       "<matplotlib.collections.PathCollection at 0x7fbff8001ac0>"
      ]
     },
     "execution_count": 192,
     "metadata": {},
     "output_type": "execute_result"
    },
    {
     "data": {
      "image/png": "[encoded data removed]",
      "text/plain": [
       "<Figure size 432x288 with 1 Axes>"
      ]
     },
     "metadata": {
      "needs_background": "light"
     },
     "output_type": "display_data"
    }
   ],
   "source": [
    "import math\n",
    "import random\n",
    "x1, y1 = 1600, 3000\n",
    "x2, y2 = random.randint(x1 - 1000, x1 + 100), random.randint(y1-100, y1 +100)\n",
    "\n",
    "\n",
    "print(x1, y1)\n",
    "print(x2, y2)\n",
    "\n",
    "\n",
    "dist = math.hypot(x2 - x1, y2 - y1)\n",
    "dist\n",
    "plt.scatter([x1,x2],[y1,y2])  "
   ]
  },
  {
   "cell_type": "code",
   "execution_count": 319,
   "metadata": {},
   "outputs": [
    {
     "name": "stdout",
     "output_type": "stream",
     "text": [
      "[   0. 6399.]\n",
      "[   0. 3559.]\n",
      "2\n",
      "2\n",
      "3559.0\n",
      "1779.5\n",
      "[[   0.    0.]\n",
      " [6399.    0.]\n",
      " [   0. 3559.]\n",
      " [6399. 3559.]]\n",
      "100\n"
     ]
    },
    {
     "data": {
      "image/png": "[encoded data removed]",
      "text/plain": [
       "<Figure size 1294.38x720 with 1 Axes>"
      ]
     },
     "metadata": {
      "needs_background": "light"
     },
     "output_type": "display_data"
    }
   ],
   "source": [
    "# specify params\n",
    "n = 2\n",
    "shape = np.array([3560, 6400])\n",
    "sensitivity = 0.5 # 0 means no movement, 1 means max distance is init_dist\n",
    "\n",
    "# compute grid shape based on number of points\n",
    "width_ratio = shape[1] / shape[0]\n",
    "num_y = np.int32(np.sqrt(n / width_ratio)) + 1\n",
    "num_x = np.int32(n / num_y) + 1\n",
    "\n",
    "# create regularly spaced neurons\n",
    "x = np.linspace(0., shape[1]-1, num_x, dtype=np.float32)\n",
    "y = np.linspace(0., shape[0]-1, num_y, dtype=np.float32)\n",
    "coords = np.stack(np.meshgrid(x, y), -1).reshape(-1,2)\n",
    "print(x)\n",
    "print(y)\n",
    "print(num_x)\n",
    "print(num_y)\n",
    "# compute spacing\n",
    "init_dist = np.min((x[1]-x[0], y[1]-y[0]))\n",
    "min_dist = init_dist * (1 - sensitivity)\n",
    "\n",
    "assert init_dist >= min_dist\n",
    "\n",
    "# print(coords)\n",
    "print(init_dist)\n",
    "print(min_dist)\n",
    "print(coords)\n",
    "\n",
    "# perturb points\n",
    "max_movement = (init_dist - min_dist)/2\n",
    "max_movement = 100\n",
    "noise = np.random.uniform(\n",
    "    low=-max_movement,\n",
    "    high=max_movement,\n",
    "    size=(len(coords), 2))\n",
    "coords += noise\n",
    "\n",
    "print(max_movement)\n",
    "\n",
    "# plot\n",
    "plt.figure(figsize=(10*width_ratio,10))\n",
    "plt.scatter(coords[:,0], coords[:,1], s=60)\n",
    "plt.show()"
   ]
  },
  {
   "cell_type": "code",
   "execution_count": 406,
   "metadata": {},
   "outputs": [
    {
     "data": {
      "image/png": "[encoded data removed]",
      "text/plain": [
       "<Figure size 720x720 with 1 Axes>"
      ]
     },
     "metadata": {
      "needs_background": "light"
     },
     "output_type": "display_data"
    }
   ],
   "source": [
    "\n",
    "def get_random_point(coord, max_dist, max_cotys):\n",
    "    coord = np.array(coord, dtype=np.float64)\n",
    "    coords = []\n",
    "    for coty in range(max_cotys):\n",
    "        coord_copy = coord.copy()\n",
    "        noise = np.random.uniform(\n",
    "        low=-max_dist,\n",
    "        high=max_dist,\n",
    "        size=len(coord_copy))\n",
    "        coord_copy += noise\n",
    "        coords.append(coord_copy)\n",
    "    return coords\n",
    "\n",
    "coords = np.array(get_random_point((200, 100), 100, 100))\n",
    "coords\n",
    "# plot\n",
    "plt.figure(figsize=(10,10))\n",
    "plt.scatter(coords[:,0], coords[:,1], s=60)\n",
    "plt.show()"
   ]
  },
  {
   "cell_type": "code",
   "execution_count": 381,
   "metadata": {},
   "outputs": [
    {
     "data": {
      "text/plain": [
       "[array([232.8866,  72.0263]),\n",
       " array([104.6878, 103.4823]),\n",
       " array([112.0109, 106.9419]),\n",
       " array([256.7422,  73.5624]),\n",
       " array([171.724 , 113.0891]),\n",
       " array([188.9209,  62.7031]),\n",
       " array([270.6685,  78.8677]),\n",
       " array([261.6971, 164.3378]),\n",
       " array([145.1585,  94.5565]),\n",
       " array([250.3454, 113.6475])]"
      ]
     },
     "execution_count": 381,
     "metadata": {},
     "output_type": "execute_result"
    }
   ],
   "source": [
    "[get_random_point((200, 100), 100) for x in range(0,10)]"
   ]
  },
  {
   "cell_type": "code",
   "execution_count": 398,
   "metadata": {},
   "outputs": [
    {
     "data": {
      "image/png": "[encoded data removed]",
      "text/plain": [
       "<Figure size 720x720 with 1 Axes>"
      ]
     },
     "metadata": {
      "needs_background": "light"
     },
     "output_type": "display_data"
    }
   ],
   "source": [
    "def generate_points_with_min_distance(n, shape, min_dist):\n",
    "    # compute grid shape based on number of points\n",
    "    width_ratio = shape[1] / shape[0]\n",
    "    num_y = np.int32(np.sqrt(n / width_ratio)) + 1\n",
    "    num_x = np.int32(n / num_y) + 1\n",
    "\n",
    "    # create regularly spaced neurons\n",
    "    x = np.linspace(0., shape[1]-1, num_x, dtype=np.float32)\n",
    "    y = np.linspace(0., shape[0]-1, num_y, dtype=np.float32)\n",
    "    coords = np.stack(np.meshgrid(x, y), -1).reshape(-1,2)\n",
    "\n",
    "    # compute spacing\n",
    "    init_dist = np.min((x[1]-x[0], y[1]-y[0]))\n",
    "\n",
    "    # perturb points\n",
    "    max_movement = (init_dist - min_dist)/2\n",
    "    noise = np.random.uniform(low=-max_movement,\n",
    "                                high=max_movement,\n",
    "                                size=(len(coords), 2))\n",
    "    coords += noise\n",
    "\n",
    "    return coords\n",
    "n = 2\n",
    "shape = np.array([3400, 6400])\n",
    "dist = 1\n",
    "coords = generate_points_with_min_distance(n, shape, min_dist)\n",
    "# coords = generate_points_with_min_distance(n=8, shape=(2448,2448), min_dist=256)\n",
    "\n",
    "# plot\n",
    "plt.figure(figsize=(10,10))\n",
    "plt.scatter(coords[:,0], coords[:,1], s=60)\n",
    "plt.show()"
   ]
  }
 ],
 "metadata": {
  "kernelspec": {
   "display_name": "Python 3.9.0 ('semif_gpu')",
   "language": "python",
   "name": "python3"
  },
  "language_info": {
   "codemirror_mode": {
    "name": "ipython",
    "version": 3
   },
   "file_extension": ".py",
   "mimetype": "text/x-python",
   "name": "python",
   "nbconvert_exporter": "python",
   "pygments_lexer": "ipython3",
   "version": "3.9.0"
  },
  "orig_nbformat": 4,
  "vscode": {
   "interpreter": {
    "hash": "0761b86a138a7d55b4f3c23d47d2d15f86714bfdaf7e37a783fa5b2853fc7c70"
   }
  }
 },
 "nbformat": 4,
 "nbformat_minor": 2
}
