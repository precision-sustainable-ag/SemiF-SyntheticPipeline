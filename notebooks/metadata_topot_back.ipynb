{
 "cells": [
  {
   "cell_type": "code",
   "execution_count": 2,
   "metadata": {},
   "outputs": [],
   "source": [
    "import json\n",
    "from pathlib import Path\n",
    "import uuid"
   ]
  },
  {
   "cell_type": "code",
   "execution_count": 38,
   "metadata": {},
   "outputs": [
    {
     "data": {
      "text/plain": [
       "<generator object Path.glob at 0x7f712d98d580>"
      ]
     },
     "execution_count": 38,
     "metadata": {},
     "output_type": "execute_result"
    }
   ],
   "source": [
    "backdir = Path(\"../data/semifield-synth/backgrounds\").glob(\"*\")\n",
    "potdir = Path(\"../data/semifield-synth/pots\").glob(\"*.png\")"
   ]
  },
  {
   "cell_type": "code",
   "execution_count": 39,
   "metadata": {},
   "outputs": [],
   "source": [
    "for potpath in potdir:\n",
    "    \n",
    "    potdict = {\"pot_path\":\"pots/\" + potpath.name , \"pot_id\": str(uuid.uuid4())}\n",
    "    potpath = Path(\"../data/semifield-synth/pots\", potpath.stem + \".json\")\n",
    "    # with open(str(potpath), \"w\") as outfile:\n",
    "        # json.dump(potdict, outfile)"
   ]
  },
  {
   "cell_type": "code",
   "execution_count": 29,
   "metadata": {},
   "outputs": [
    {
     "name": "stdout",
     "output_type": "stream",
     "text": [
      "../data/semifield-synth/backgrounds/MD_1661959873.json\n",
      "../data/semifield-synth/backgrounds/MD_1658506017.json\n",
      "../data/semifield-synth/backgrounds/MD_1658505970.json\n",
      "../data/semifield-synth/backgrounds/MD_1661959863.json\n",
      "../data/semifield-synth/backgrounds/MD_1658332409.json\n",
      "../data/semifield-synth/backgrounds/MD_1659534200.json\n",
      "../data/semifield-synth/backgrounds/NC_1658425565.json\n",
      "../data/semifield-synth/backgrounds/MD_1659974834.json\n",
      "../data/semifield-synth/backgrounds/MD_1659974775.json\n",
      "../data/semifield-synth/backgrounds/MD_1661959847.json\n",
      "../data/semifield-synth/backgrounds/MD_72_2_1655836004_background.json\n",
      "../data/semifield-synth/backgrounds/MD_1661539823.json\n",
      "../data/semifield-synth/backgrounds/MD_1661539840.json\n",
      "../data/semifield-synth/backgrounds/MD_1658332435.json\n",
      "../data/semifield-synth/backgrounds/MD_1660590841.json\n",
      "../data/semifield-synth/backgrounds/MD_1660590867.json\n",
      "../data/semifield-synth/backgrounds/MD_1658332386.json\n",
      "../data/semifield-synth/backgrounds/MD_1661539806.json\n",
      "../data/semifield-synth/backgrounds/MD_1660590857.json\n",
      "../data/semifield-synth/backgrounds/MD_36_5_1656435225_background.json\n",
      "../data/semifield-synth/backgrounds/MD_1659974786.json\n"
     ]
    }
   ],
   "source": [
    "for backpath in backdir:\n",
    "    \n",
    "    backdict = {\"background_path\":\"backgrounds/\" + backpath.name , \"background_id\": str(uuid.uuid4())}\n",
    "    backpath = Path(\"../data/semifield-synth/backgrounds\", backpath.stem + \".json\")\n",
    "    # with open(backpath, \"w\") as outfile:\n",
    "        # json.dump(backdict, outfile)"
   ]
  },
  {
   "cell_type": "code",
   "execution_count": null,
   "metadata": {},
   "outputs": [],
   "source": []
  }
 ],
 "metadata": {
  "kernelspec": {
   "display_name": "Python 3.9.0 ('semif_gpu')",
   "language": "python",
   "name": "python3"
  },
  "language_info": {
   "codemirror_mode": {
    "name": "ipython",
    "version": 3
   },
   "file_extension": ".py",
   "mimetype": "text/x-python",
   "name": "python",
   "nbconvert_exporter": "python",
   "pygments_lexer": "ipython3",
   "version": "3.9.0"
  },
  "orig_nbformat": 4,
  "vscode": {
   "interpreter": {
    "hash": "0761b86a138a7d55b4f3c23d47d2d15f86714bfdaf7e37a783fa5b2853fc7c70"
   }
  }
 },
 "nbformat": 4,
 "nbformat_minor": 2
}
