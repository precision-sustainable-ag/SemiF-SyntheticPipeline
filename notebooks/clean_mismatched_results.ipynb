{
 "cells": [
  {
   "cell_type": "code",
   "execution_count": 5,
   "metadata": {},
   "outputs": [],
   "source": [
    "import shutil\n",
    "from pathlib  import Path\n",
    "import os\n",
    "os.chdir(\"/home/weedsci/matt/SemiF-SyntheticPipeline/\")"
   ]
  },
  {
   "cell_type": "code",
   "execution_count": 51,
   "metadata": {},
   "outputs": [],
   "source": [
    "# Load paths and get unique file names\n",
    "imgdir = Path(\"data/semifield-synth/images\")\n",
    "maskdir = Path(\"data/semifield-synth/masks\")\n",
    "metadir = Path(\"data/semifield-synth/metadata\")\n",
    "\n",
    "# Read all files\n",
    "img_glob = [x for x in imgdir.glob(\"*.png\")]\n",
    "mask_glob = [x for x in maskdir.glob(\"*.png\")]\n",
    "meta_glob = [x for x in metadir.glob(\"*.json\")]\n",
    "\n",
    "# Get stems for comparison\n",
    "images_stems = [x.stem for x in img_glob]\n",
    "masks_stems = [x.stem for x in mask_glob]\n",
    "meta_stems = [x.stem for x in meta_glob]\n",
    "\n",
    "# Find interesection\n",
    "imgs_and_masks = list(set(images_stems).intersection(masks_stems))\n",
    "common_int = list(set(imgs_and_masks).intersection(meta_stems))\n",
    "\n",
    "common_set = list(set(images_stems) & set(masks_stems) & set(meta_stems))"
   ]
  },
  {
   "cell_type": "code",
   "execution_count": 52,
   "metadata": {},
   "outputs": [],
   "source": [
    "# Remove unique imgs\n",
    "for path in img_glob:\n",
    "    path_stem = path.stem\n",
    "    if path_stem not in common_set:\n",
    "        # path.unlink()\n",
    "        print(\"Done\")\n",
    "\n",
    "# Remove unique masks\n",
    "for path in mask_glob:\n",
    "    path_stem = path.stem\n",
    "    if path_stem not in common_set:\n",
    "        # path.unlink()\n",
    "        print(\"Done\")\n",
    "# Remove unique metadata\n",
    "for path in meta_glob:\n",
    "    path_stem = path.stem\n",
    "    if path_stem not in common_set:\n",
    "        # path.unlink()\n",
    "        print(\"Done\")"
   ]
  },
  {
   "cell_type": "code",
   "execution_count": 64,
   "metadata": {},
   "outputs": [],
   "source": [
    "# Load paths again to check that stems are all the same\n",
    "imgdir = Path(\"data/semifield-synth/images\")\n",
    "maskdir = Path(\"data/semifield-synth/masks\")\n",
    "metadir = Path(\"data/semifield-synth/metadata\")\n",
    "\n",
    "# Read all files and sort them (sorting required)\n",
    "img_stems_clean = sorted([x.stem for x in imgdir.glob(\"*.png\")])\n",
    "mask_stems_clean = sorted([x.stem for x in maskdir.glob(\"*.png\")])\n",
    "meta_stems_clean = sorted([x.stem for x in metadir.glob(\"*.json\")])"
   ]
  },
  {
   "cell_type": "code",
   "execution_count": 65,
   "metadata": {},
   "outputs": [
    {
     "name": "stdout",
     "output_type": "stream",
     "text": [
      "True\n",
      "True\n",
      "True\n"
     ]
    }
   ],
   "source": [
    "# Check if lists of stems from each dir are the same\n",
    "print(img_stems_clean == mask_stems_clean)\n",
    "print(img_stems_clean==meta_stems_clean)\n",
    "print(mask_stems_clean==meta_stems_clean)"
   ]
  },
  {
   "cell_type": "code",
   "execution_count": 63,
   "metadata": {},
   "outputs": [
    {
     "name": "stdout",
     "output_type": "stream",
     "text": [
      "000ab0406c6f41ca811ff147775bdef4 000ab0406c6f41ca811ff147775bdef4 000ab0406c6f41ca811ff147775bdef4\n"
     ]
    }
   ],
   "source": [
    "# Manually check if you want\n",
    "idx =1\n",
    "print(img_stems_clean[idx], mask_stems_clean[idx], meta_stems_clean[idx])"
   ]
  }
 ],
 "metadata": {
  "kernelspec": {
   "display_name": "Python 3.9.0 ('semif_gpu')",
   "language": "python",
   "name": "python3"
  },
  "language_info": {
   "codemirror_mode": {
    "name": "ipython",
    "version": 3
   },
   "file_extension": ".py",
   "mimetype": "text/x-python",
   "name": "python",
   "nbconvert_exporter": "python",
   "pygments_lexer": "ipython3",
   "version": "3.9.0"
  },
  "orig_nbformat": 4,
  "vscode": {
   "interpreter": {
    "hash": "0761b86a138a7d55b4f3c23d47d2d15f86714bfdaf7e37a783fa5b2853fc7c70"
   }
  }
 },
 "nbformat": 4,
 "nbformat_minor": 2
}
