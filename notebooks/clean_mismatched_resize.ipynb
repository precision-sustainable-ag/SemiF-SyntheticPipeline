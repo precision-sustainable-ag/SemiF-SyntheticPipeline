{
 "cells": [
  {
   "cell_type": "code",
   "execution_count": 1,
   "metadata": {},
   "outputs": [],
   "source": [
    "import shutil\n",
    "from pathlib  import Path\n",
    "import os\n",
    "os.chdir(\"/home/weedsci/matt/SemiF-SyntheticPipeline/\")"
   ]
  },
  {
   "cell_type": "code",
   "execution_count": 2,
   "metadata": {},
   "outputs": [],
   "source": [
    "# Load paths and get unique file names\n",
    "imgdir = Path(\"/media/hdd1/mkutu/wir/semifield-synth/images\")\n",
    "maskdir = Path(\"/media/hdd1/mkutu/wir/semifield-synth/masks\")\n",
    "metadir = Path(\"/media/hdd1/mkutu/wir/semifield-synth/metadata\")\n",
    "\n",
    "# Read all files\n",
    "img_glob = [x for x in imgdir.glob(\"*.png\")]\n",
    "mask_glob = [x for x in maskdir.glob(\"*.png\")]\n",
    "meta_glob = [x for x in metadir.glob(\"*.json\")]\n",
    "\n",
    "# Get stems for comparison\n",
    "images_stems = [x.stem for x in img_glob]\n",
    "masks_stems = [x.stem for x in mask_glob]\n",
    "meta_stems = [x.stem for x in meta_glob]\n",
    "\n",
    "# Find interesection\n",
    "imgs_and_masks = list(set(images_stems).intersection(masks_stems))\n",
    "common_int = list(set(imgs_and_masks).intersection(meta_stems))\n",
    "\n",
    "common_set = list(set(images_stems) & set(masks_stems) & set(meta_stems))"
   ]
  },
  {
   "cell_type": "code",
   "execution_count": 3,
   "metadata": {},
   "outputs": [],
   "source": [
    "# Remove unique imgs\n",
    "for path in img_glob:\n",
    "    path_stem = path.stem\n",
    "    if path_stem not in common_set:\n",
    "        # path.unlink()\n",
    "        print(\"Done\")\n",
    "\n",
    "# Remove unique masks\n",
    "for path in mask_glob:\n",
    "    path_stem = path.stem\n",
    "    if path_stem not in common_set:\n",
    "        # path.unlink()\n",
    "        print(\"Done\")\n",
    "# Remove unique metadata\n",
    "for path in meta_glob:\n",
    "    path_stem = path.stem\n",
    "    if path_stem not in common_set:\n",
    "        # path.unlink()\n",
    "        print(\"Done\")"
   ]
  },
  {
   "cell_type": "code",
   "execution_count": 4,
   "metadata": {},
   "outputs": [],
   "source": [
    "# Load paths again to check that stems are all the same\n",
    "imgdir = Path(\"data/semifield-synth/images\")\n",
    "maskdir = Path(\"data/semifield-synth/masks\")\n",
    "metadir = Path(\"data/semifield-synth/metadata\")\n",
    "\n",
    "# Read all files and sort them (sorting required)\n",
    "img_stems_clean = sorted([x.stem for x in imgdir.glob(\"*.png\")])\n",
    "mask_stems_clean = sorted([x.stem for x in maskdir.glob(\"*.png\")])\n",
    "meta_stems_clean = sorted([x.stem for x in metadir.glob(\"*.json\")])"
   ]
  },
  {
   "cell_type": "code",
   "execution_count": 7,
   "metadata": {},
   "outputs": [
    {
     "name": "stdout",
     "output_type": "stream",
     "text": [
      "True\n",
      "True\n",
      "True\n"
     ]
    }
   ],
   "source": [
    "# Check if lists of stems from each dir are the same\n",
    "print(img_stems_clean == mask_stems_clean)\n",
    "print(img_stems_clean==meta_stems_clean)\n",
    "print(mask_stems_clean==meta_stems_clean)"
   ]
  },
  {
   "cell_type": "code",
   "execution_count": 8,
   "metadata": {},
   "outputs": [
    {
     "ename": "IndexError",
     "evalue": "list index out of range",
     "output_type": "error",
     "traceback": [
      "\u001b[0;31m---------------------------------------------------------------------------\u001b[0m",
      "\u001b[0;31mIndexError\u001b[0m                                Traceback (most recent call last)",
      "\u001b[1;32m/home/weedsci/matt/SemiF-SyntheticPipeline/notebooks/clean_mismatched_resize.ipynb Cell 6\u001b[0m in \u001b[0;36m<cell line: 3>\u001b[0;34m()\u001b[0m\n\u001b[1;32m      <a href='vscode-notebook-cell:/home/weedsci/matt/SemiF-SyntheticPipeline/notebooks/clean_mismatched_resize.ipynb#W5sZmlsZQ%3D%3D?line=0'>1</a>\u001b[0m \u001b[39m# Manually check if you want\u001b[39;00m\n\u001b[1;32m      <a href='vscode-notebook-cell:/home/weedsci/matt/SemiF-SyntheticPipeline/notebooks/clean_mismatched_resize.ipynb#W5sZmlsZQ%3D%3D?line=1'>2</a>\u001b[0m idx \u001b[39m=\u001b[39m\u001b[39m1\u001b[39m\n\u001b[0;32m----> <a href='vscode-notebook-cell:/home/weedsci/matt/SemiF-SyntheticPipeline/notebooks/clean_mismatched_resize.ipynb#W5sZmlsZQ%3D%3D?line=2'>3</a>\u001b[0m \u001b[39mprint\u001b[39m(img_stems_clean[idx], mask_stems_clean[idx], meta_stems_clean[idx])\n",
      "\u001b[0;31mIndexError\u001b[0m: list index out of range"
     ]
    }
   ],
   "source": [
    "# Manually check if you want\n",
    "idx =1\n",
    "print(img_stems_clean[idx], mask_stems_clean[idx], meta_stems_clean[idx])"
   ]
  }
 ],
 "metadata": {
  "kernelspec": {
   "display_name": "Python 3.9.0 ('semif_gpu')",
   "language": "python",
   "name": "python3"
  },
  "language_info": {
   "codemirror_mode": {
    "name": "ipython",
    "version": 3
   },
   "file_extension": ".py",
   "mimetype": "text/x-python",
   "name": "python",
   "nbconvert_exporter": "python",
   "pygments_lexer": "ipython3",
   "version": "3.9.0"
  },
  "orig_nbformat": 4,
  "vscode": {
   "interpreter": {
    "hash": "0761b86a138a7d55b4f3c23d47d2d15f86714bfdaf7e37a783fa5b2853fc7c70"
   }
  }
 },
 "nbformat": 4,
 "nbformat_minor": 2
}
