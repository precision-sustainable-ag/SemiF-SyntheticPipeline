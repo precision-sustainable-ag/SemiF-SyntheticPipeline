{
 "cells": [
  {
   "cell_type": "code",
   "execution_count": 19,
   "metadata": {},
   "outputs": [],
   "source": [
    "import sys\n",
    "sys.path.append(\"..\")\n",
    "# from semif_utils.mongo_utils import Connect, to_db, from_db\n",
    "from semif_utils.datasets import Pot, Background\n",
    "from semif_utils.synth_utils import dict_to_json\n",
    "from dataclasses import asdict\n",
    "import  uuid\n",
    "import cv2\n",
    "from pathlib import Path"
   ]
  },
  {
   "cell_type": "markdown",
   "metadata": {},
   "source": [
    "## Rename background and pot images\n"
   ]
  },
  {
   "cell_type": "code",
   "execution_count": 2,
   "metadata": {},
   "outputs": [],
   "source": [
    "# pot = Path(\"../blob_container/semifield-synthetic-images-trial/pots/row5_2.png\")\n",
    "# potuid = uuid.uuid4().hex\n",
    "# pot_parents = pot.parent\n",
    "# potpath = Path(pot_parents, str(potuid) + \".png\")\n",
    "\n",
    "# pimg = cv2.imread(str(pot), cv2.IMREAD_UNCHANGED)\n",
    "# cv2.imwrite(str(potpath), pimg)"
   ]
  },
  {
   "cell_type": "markdown",
   "metadata": {},
   "source": [
    "## Create db docs of background and pot and move to DB"
   ]
  },
  {
   "cell_type": "code",
   "execution_count": 30,
   "metadata": {},
   "outputs": [
    {
     "data": {
      "text/plain": [
       "[None,\n",
       " None,\n",
       " None,\n",
       " None,\n",
       " None,\n",
       " None,\n",
       " None,\n",
       " None,\n",
       " None,\n",
       " None,\n",
       " None,\n",
       " None,\n",
       " None,\n",
       " None,\n",
       " None]"
      ]
     },
     "execution_count": 30,
     "metadata": {},
     "output_type": "execute_result"
    }
   ],
   "source": [
    "pots = [x for x in Path(\"../data/semifield-synth/pots\").glob(\"*.png\")]\n",
    "backs = [x for x in Path(\"../data/semifield-synth/backgrounds\").glob(\"*.png\")]\n",
    "\n",
    "def create_pot(potpath, uuid_stem=False):\n",
    "    potuid = uuid.uuid4()\n",
    "    pot = Pot(pot_path=str(Path(potpath).relative_to(Path(potpath).parent.parent)),\n",
    "                pot_id=potuid)\n",
    "    return pot\n",
    "def create_background(backpath, uuid_stem=False):\n",
    "    backuid = uuid.uuid4()\n",
    "    back = Background(background_path=str(Path(backpath).relative_to(Path(backpath).parent.parent)),\n",
    "                background_id=backuid)\n",
    "    return back\n",
    "\n",
    "pot = [create_pot(pot, uuid_stem=True) for pot in pots]\n",
    "back = [create_background(back, uuid_stem=True) for back in backs]\n",
    "[dict_to_json(asdict(po), f\"../data/semifield-synth/pots/{Path(po.pot_path).stem}.json\") for po in pot]\n",
    "[dict_to_json(asdict(ba), f\"../data/semifield-synth/backgrounds/{Path(ba.background_path).stem}.json\") for ba in back]"
   ]
  },
  {
   "cell_type": "code",
   "execution_count": 6,
   "metadata": {},
   "outputs": [
    {
     "name": "stdout",
     "output_type": "stream",
     "text": [
      "[Pot(pot_path='pots/MD_72_2_1655836004.0.png', pot_id=UUID('dc8559b6-95fc-41ea-9589-fa116bdf1f44')), Pot(pot_path='pots/pot_1.png', pot_id=UUID('a62e700c-4011-48b9-95bc-40a2b8f7b80f')), Pot(pot_path='pots/MD_15_29_1656457390.0.png', pot_id=UUID('fbf33410-9e3f-4f2b-b16e-f69b913e8656')), Pot(pot_path='pots/MD_70_4_1655835787.0.png', pot_id=UUID('4ee3b650-d3da-4354-9b15-7ad0160d3bb2')), Pot(pot_path='pots/MD_1_16_1656440273.0.png', pot_id=UUID('c1c854df-24a7-4401-aa2b-cd3dc57e0284')), Pot(pot_path='pots/MD_3_16_1656440536.0_3.png', pot_id=UUID('d1cba7f8-c375-4f52-934a-db74375e4794')), Pot(pot_path='pots/pot_2.png', pot_id=UUID('ae4d574e-4cbd-4701-9750-431f1b6e4106')), Pot(pot_path='pots/pot_5.png', pot_id=UUID('b8b75c55-84c7-4e87-a252-cf97fbef1134')), Pot(pot_path='pots/pot_4.png', pot_id=UUID('b1b4848d-699f-4beb-a273-4a31d5909391')), Pot(pot_path='pots/pot_3.png', pot_id=UUID('e8dd146e-f269-4d39-a322-9f1b54a5ea80')), Pot(pot_path='pots/MD_19_25_1656457867.0.png', pot_id=UUID('232a5965-5c76-4038-9951-601106ffec64')), Pot(pot_path='pots/MD_36_4_1656435201.0.png', pot_id=UUID('67cd55f6-d179-468a-b9df-7f673a4e07af')), Pot(pot_path='pots/MD_3_16_1656440536.0.png', pot_id=UUID('17cd80ed-b045-462d-a593-e186d4b7900c')), Pot(pot_path='pots/MD_3_16_1656440536.0_2.png', pot_id=UUID('667ae499-66ee-4457-81c6-36c30cdfbbe4')), Pot(pot_path='pots/MD_15_28_1656457366.0.png', pot_id=UUID('4cd36a67-92df-4e12-b7d8-c4d07182aafd'))]\n",
      "[]\n"
     ]
    }
   ],
   "source": [
    "print(pot)\n",
    "print(back)"
   ]
  },
  {
   "cell_type": "code",
   "execution_count": 7,
   "metadata": {},
   "outputs": [],
   "source": [
    "\n",
    "db = getattr(Connect.get_connection(), \"test\")\n",
    "# to_db(db, \"Pots\", pot)\n",
    "# to_db(db, \"Backgrounds\", back)"
   ]
  },
  {
   "cell_type": "markdown",
   "metadata": {},
   "source": [
    "## Create json from background and pot db docs"
   ]
  },
  {
   "cell_type": "code",
   "execution_count": 8,
   "metadata": {},
   "outputs": [],
   "source": [
    "db = getattr(Connect.get_connection(), \"test\")\n",
    "backs = from_db(db, \"Backgrounds\")\n",
    "pots = from_db(db, \"Pots\")"
   ]
  },
  {
   "cell_type": "code",
   "execution_count": 7,
   "metadata": {},
   "outputs": [
    {
     "data": {
      "text/plain": [
       "PosixPath('../data/semifield-synth/pots/MD_72_2_1655836004.0.png')"
      ]
     },
     "execution_count": 7,
     "metadata": {},
     "output_type": "execute_result"
    }
   ],
   "source": [
    "pots[0]"
   ]
  },
  {
   "cell_type": "code",
   "execution_count": 10,
   "metadata": {},
   "outputs": [
    {
     "name": "stdout",
     "output_type": "stream",
     "text": [
      "../blob_container/semifield-synthetic-images-trial/backgrounds/862f315672e94d30817809da4d109c48.json\n"
     ]
    }
   ],
   "source": [
    "synthdir = Path(\"../blob_container/semifield-synthetic-images-trial\")\n",
    "backp = Path(backs[0][\"background_path\"])\n",
    "back_base = Path(backp.parent, backp.stem + \".json\")\n",
    "jsonpath = Path(synthdir, back_base)\n",
    "print(jsonpath)\n",
    "# dict_to_json(backs[0], jsonpath)\n",
    "\n"
   ]
  },
  {
   "cell_type": "code",
   "execution_count": 12,
   "metadata": {},
   "outputs": [
    {
     "name": "stdout",
     "output_type": "stream",
     "text": [
      "../blob_container/semifield-synthetic-images-trial/pots/d8453b13ab7b424fac446818b491bdf2.json\n"
     ]
    }
   ],
   "source": [
    "synthdir = Path(\"../blob_container/semifield-synthetic-images-trial\")\n",
    "potp = Path(pots[0][\"pot_path\"])\n",
    "pot_base = Path(potp.parent, potp.stem + \".json\")\n",
    "jsonpath = Path(synthdir, pot_base)\n",
    "print(jsonpath)\n",
    "# dict_to_json(pots[0], jsonpath)\n"
   ]
  },
  {
   "cell_type": "code",
   "execution_count": null,
   "metadata": {},
   "outputs": [],
   "source": []
  }
 ],
 "metadata": {
  "interpreter": {
   "hash": "59b627dbbc37ebbb1d7be1ff42181d533d94977a5210449e7ff5229441e2702b"
  },
  "kernelspec": {
   "display_name": "Python 3.9.12 ('autoann')",
   "language": "python",
   "name": "python3"
  },
  "language_info": {
   "codemirror_mode": {
    "name": "ipython",
    "version": 3
   },
   "file_extension": ".py",
   "mimetype": "text/x-python",
   "name": "python",
   "nbconvert_exporter": "python",
   "pygments_lexer": "ipython3",
   "version": "3.9.12"
  },
  "orig_nbformat": 4
 },
 "nbformat": 4,
 "nbformat_minor": 2
}
